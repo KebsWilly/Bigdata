{
    "cells": [
        {
            "cell_type": "code",
            "execution_count": 3,
            "metadata": {},
            "outputs": [
                {
                    "data": {
                        "text/plain": "KMeans(algorithm='auto', copy_x=True, init='k-means++', max_iter=300,\n    n_clusters=5, n_init=10, n_jobs=None, precompute_distances='auto',\n    random_state=None, tol=0.0001, verbose=0)"
                    },
                    "execution_count": 3,
                    "metadata": {},
                    "output_type": "execute_result"
                }
            ],
            "source": "# Unsupervised Learning - No target , No Y: only X is available\n# Clustering - Putting into similar groups\n# A bank :\n# Airline datasets.\nimport pandas\nairlines = pandas.read_csv(\"http://modcom.co.ke/bigdatasept/datasets/AirlinesCluster.csv\")\nairlines\n\n#We cluster using only the 3 columns\nairlines_subset = airlines[['FlightMiles','FlightTrans','DaysSinceEnroll']]\nairlines_subset\n\narray = airlines_subset.values\nX = array[:,0:3]\nX\n\nfrom sklearn.cluster import KMeans\nmodel = KMeans(n_clusters=5)\nmodel.fit(X)\n\n#Get your clusters"
        },
        {
            "cell_type": "code",
            "execution_count": null,
            "metadata": {},
            "outputs": [],
            "source": ""
        }
    ],
    "metadata": {
        "kernelspec": {
            "display_name": "Python 3.6",
            "language": "python",
            "name": "python3"
        },
        "language_info": {
            "codemirror_mode": {
                "name": "ipython",
                "version": 3
            },
            "file_extension": ".py",
            "mimetype": "text/x-python",
            "name": "python",
            "nbconvert_exporter": "python",
            "pygments_lexer": "ipython3",
            "version": "3.6.9"
        }
    },
    "nbformat": 4,
    "nbformat_minor": 1
}