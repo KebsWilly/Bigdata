{
    "cells": [
        {
            "cell_type": "code",
            "execution_count": null,
            "metadata": {},
            "outputs": [],
            "source": "# Unsupervised Learning - No target, No Y, only X is available\n# Clustering   - Putting into similar groups.\n# A bank :\n# Airline datasets.\nimport pandas\nairlines = pandas.read_csv(\"http://modcom.co.ke/bigdatasept/datasets/AirlinesCluster.csv\")\nairlines\n\n# we cluster using only the 3 columns\nairlines_subset = airlines[['FlightMiles','FlightTrans','DaysSinceEnroll']]  # Numeric/Continous\nairlines_subset\n\n\narray = airlines_subset.values\nX = array[:,0:3]\n\n\nfrom sklearn.cluster import KMeans\nmodel = KMeans(n_clusters=12, random_state=42)\nmodel.fit(X)\n\n# Where are the five clusters?\ncentronoids = model.cluster_centers_\nclusters = pandas.DataFrame(centronoids, columns=['FlightMiles','FlightTrans','DaysSinceEnroll'])\nprint(clusters)\n\n#  get the newly created column for cluster labels\nairlines_subset['label']  = model.labels_\nairlines_subset = airlines_subset[airlines_subset['label'] == 2]\nprint(airlines_subset)\n\n\n# Action points:\n# Cluster 0: New to the program, No much transactions and miles\n# Wayforword: Contact them introduce a new services, points,  to get on course\n\n# Cluster1: Confirm if still in the program, get why the opted out, \n\n# Cluster2/10: Ask them to redeem the miles at better offer,\n\n# Cluster 8: end year Awards, redeem,\n\nimport matplotlib.pyplot as plt\nplt.figure(figsize=(10, 8))\nfrom sklearn.cluster import KMeans\nwcss = []\nfor i in range(1, 50):\n     kmeans = KMeans(n_clusters = i, init = 'k-means++', random_state = 42)\n     kmeans.fit(X)\n     wcss.append(kmeans.inertia_)\nplt.plot(range(1, 50), wcss)\nplt.title('The Elbow Method')\nplt.xlabel('Number of clusters')\nplt.ylabel('WCSS')\nplt.show()"
        },
        {
            "cell_type": "code",
            "execution_count": null,
            "metadata": {},
            "outputs": [],
            "source": ""
        }
    ],
    "metadata": {
        "kernelspec": {
            "display_name": "Python 3.6",
            "language": "python",
            "name": "python3"
        },
        "language_info": {
            "codemirror_mode": {
                "name": "ipython",
                "version": 3
            },
            "file_extension": ".py",
            "mimetype": "text/x-python",
            "name": "python",
            "nbconvert_exporter": "python",
            "pygments_lexer": "ipython3",
            "version": "3.6.9"
        }
    },
    "nbformat": 4,
    "nbformat_minor": 1
}