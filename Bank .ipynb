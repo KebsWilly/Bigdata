{
    "cells": [
        {
            "cell_type": "code",
            "execution_count": null,
            "metadata": {},
            "outputs": [],
            "source": "import pandas\ncustomer = pandas.read_csv(\"http://modcom.co.ke/bigdatasept/datasets/general.csv\")\ncustomer"
        },
        {
            "cell_type": "code",
            "execution_count": null,
            "metadata": {},
            "outputs": [],
            "source": "# we cluster using only the 3 columns\ncustomer_subset = customer[['BALANCE','BALANCE_FREQUENCY','PURCHASES']]  # Numeric/Continous\ncustomer_subset\n\n\narray = customer_subset.values\nX = array[:,0:5]\n\n\nfrom sklearn.cluster import KMeans\nmodel = KMeans(n_clusters=12, random_state=42)\nmodel.fit(X)\n\n# Where are the five clusters?\ncentronoids = model.cluster_centers_\nclusters = pandas.DataFrame(centronoids, columns=['BALANCE','BALANCE_FREQUENCY','PURCHASES'])\nprint(clusters)\n\n#  get the newly created column for cluster labels\ncustomer_subset['Customer_ref']  = model.labels_\ncustomer_subset = customer_subset[customer_subset['Customer_ref'] == 2]\nprint(customer_subset)"
        },
        {
            "cell_type": "code",
            "execution_count": null,
            "metadata": {},
            "outputs": [],
            "source": "import matplotlib.pyplot as plt\nplt.figure(figsize=(10, 8))\nfrom sklearn.cluster import KMeans\nwcss = []\nfor i in range(1, 10):\n     kmeans = KMeans(n_clusters = i, init = 'k-means++', random_state = 42)\n     kmeans.fit(X)\n     wcss.append(kmeans.inertia_)\nplt.plot(range(1, 10), wcss)\nplt.title('The Elbow Method')\nplt.xlabel('Number of clusters')\nplt.ylabel('WCSS')\nplt.show()"
        },
        {
            "cell_type": "raw",
            "metadata": {},
            "source": "#Action points\n# Cluster 0 :These are very new customers whose balance is frequently downsizing as their purchases are below the average.\n\n# Wayforward : Introduce them to all the products you have.\n# Cluster 0, 1, 4, 5 and 6   :These Customers have low affinity on purchases hence It will be better if you find out the mostly bought items by them and what they miss so that they can shop under one roof as it seems most of their wants are missing.\n# Cluster 7 & 11  :You can introduce free charges after certain amount since they consume alot and as a result it will attract many customers to the same cluster.\n# Cluster 8 & 4  : These customers have high balances and the only resolution to earn from them is by introducing offers package with subsidized prices sinced they buy for small use.\n# Cluster 7  :These customers are above the average and being the boosters of the cash flow you can give them offers once every year."
        },
        {
            "cell_type": "code",
            "execution_count": null,
            "metadata": {},
            "outputs": [],
            "source": ""
        }
    ],
    "metadata": {
        "kernelspec": {
            "display_name": "Python 3.6",
            "language": "python",
            "name": "python3"
        },
        "language_info": {
            "codemirror_mode": {
                "name": "ipython",
                "version": 3
            },
            "file_extension": ".py",
            "mimetype": "text/x-python",
            "name": "python",
            "nbconvert_exporter": "python",
            "pygments_lexer": "ipython3",
            "version": "3.6.9"
        }
    },
    "nbformat": 4,
    "nbformat_minor": 1
}